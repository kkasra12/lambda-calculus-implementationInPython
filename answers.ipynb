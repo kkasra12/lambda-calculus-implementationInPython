{
 "cells": [
  {
   "cell_type": "markdown",
   "metadata": {
    "toc": true
   },
   "source": [
    "<h1>Table of Contents<span class=\"tocSkip\"></span></h1>\n",
    "<div class=\"toc\"><ul class=\"toc-item\"><li><span><a href=\"#License\" data-toc-modified-id=\"License--1\"><span class=\"toc-item-num\">-1&nbsp;&nbsp;</span>License</a></span></li><li><span><a href=\"#Basic-Concepts\" data-toc-modified-id=\"Basic-Concepts-0\"><span class=\"toc-item-num\">0&nbsp;&nbsp;</span>Basic Concepts</a></span><ul class=\"toc-item\"><li><span><a href=\"#identity\" data-toc-modified-id=\"identity-0.1\"><span class=\"toc-item-num\">0.1&nbsp;&nbsp;</span>identity</a></span></li><li><span><a href=\"#Arithmatics\" data-toc-modified-id=\"Arithmatics-0.2\"><span class=\"toc-item-num\">0.2&nbsp;&nbsp;</span>Arithmatics</a></span><ul class=\"toc-item\"><li><span><a href=\"#numbers\" data-toc-modified-id=\"numbers-0.2.1\"><span class=\"toc-item-num\">0.2.1&nbsp;&nbsp;</span>numbers</a></span></li><li><span><a href=\"#Successor-function-and-Addition\" data-toc-modified-id=\"Successor-function-and-Addition-0.2.2\"><span class=\"toc-item-num\">0.2.2&nbsp;&nbsp;</span>Successor function and Addition</a></span></li><li><span><a href=\"#Multiplication\" data-toc-modified-id=\"Multiplication-0.2.3\"><span class=\"toc-item-num\">0.2.3&nbsp;&nbsp;</span>Multiplication</a></span></li></ul></li><li><span><a href=\"#Logics\" data-toc-modified-id=\"Logics-0.3\"><span class=\"toc-item-num\">0.3&nbsp;&nbsp;</span>Logics</a></span><ul class=\"toc-item\"><li><span><a href=\"#True-and-False\" data-toc-modified-id=\"True-and-False-0.3.1\"><span class=\"toc-item-num\">0.3.1&nbsp;&nbsp;</span>True and False</a></span></li><li><span><a href=\"#Logical-Operations\" data-toc-modified-id=\"Logical-Operations-0.3.2\"><span class=\"toc-item-num\">0.3.2&nbsp;&nbsp;</span>Logical Operations</a></span></li><li><span><a href=\"#A-Conditional-Test\" data-toc-modified-id=\"A-Conditional-Test-0.3.3\"><span class=\"toc-item-num\">0.3.3&nbsp;&nbsp;</span>A Conditional Test</a></span></li></ul></li><li><span><a href=\"#The-predecessor-function\" data-toc-modified-id=\"The-predecessor-function-0.4\"><span class=\"toc-item-num\">0.4&nbsp;&nbsp;</span>The predecessor function</a></span></li><li><span><a href=\"#Equality-and-inequalities\" data-toc-modified-id=\"Equality-and-inequalities-0.5\"><span class=\"toc-item-num\">0.5&nbsp;&nbsp;</span>Equality and inequalities</a></span><ul class=\"toc-item\"><li><span><a href=\"#greater-than-or-equal\" data-toc-modified-id=\"greater-than-or-equal-0.5.1\"><span class=\"toc-item-num\">0.5.1&nbsp;&nbsp;</span>greater than or equal</a></span></li><li><span><a href=\"#Equal\" data-toc-modified-id=\"Equal-0.5.2\"><span class=\"toc-item-num\">0.5.2&nbsp;&nbsp;</span>Equal</a></span></li></ul></li></ul></li><li><span><a href=\"#Question1\" data-toc-modified-id=\"Question1-1\"><span class=\"toc-item-num\">1&nbsp;&nbsp;</span>Question1</a></span><ul class=\"toc-item\"><li><span><a href=\"#part-A\" data-toc-modified-id=\"part-A-1.1\"><span class=\"toc-item-num\">1.1&nbsp;&nbsp;</span>part A</a></span></li><li><span><a href=\"#part-B\" data-toc-modified-id=\"part-B-1.2\"><span class=\"toc-item-num\">1.2&nbsp;&nbsp;</span>part B</a></span></li></ul></li><li><span><a href=\"#Question2\" data-toc-modified-id=\"Question2-2\"><span class=\"toc-item-num\">2&nbsp;&nbsp;</span>Question2</a></span><ul class=\"toc-item\"><li><span><a href=\"#part-A\" data-toc-modified-id=\"part-A-2.1\"><span class=\"toc-item-num\">2.1&nbsp;&nbsp;</span>part A</a></span></li><li><span><a href=\"#part-B\" data-toc-modified-id=\"part-B-2.2\"><span class=\"toc-item-num\">2.2&nbsp;&nbsp;</span>part B</a></span></li></ul></li><li><span><a href=\"#Question3\" data-toc-modified-id=\"Question3-3\"><span class=\"toc-item-num\">3&nbsp;&nbsp;</span>Question3</a></span><ul class=\"toc-item\"><li><span><a href=\"#Definition-of-negetive-and-posetive-integers\" data-toc-modified-id=\"Definition-of-negetive-and-posetive-integers-3.1\"><span class=\"toc-item-num\">3.1&nbsp;&nbsp;</span>Definition of negetive and posetive integers</a></span></li><li><span><a href=\"#Addition-and-subtraction\" data-toc-modified-id=\"Addition-and-subtraction-3.2\"><span class=\"toc-item-num\">3.2&nbsp;&nbsp;</span>Addition and subtraction</a></span></li></ul></li><li><span><a href=\"#Question4\" data-toc-modified-id=\"Question4-4\"><span class=\"toc-item-num\">4&nbsp;&nbsp;</span>Question4</a></span></li><li><span><a href=\"#Question5\" data-toc-modified-id=\"Question5-5\"><span class=\"toc-item-num\">5&nbsp;&nbsp;</span>Question5</a></span></li><li><span><a href=\"#Question6\" data-toc-modified-id=\"Question6-6\"><span class=\"toc-item-num\">6&nbsp;&nbsp;</span>Question6</a></span><ul class=\"toc-item\"><li><span><a href=\"#Addition\" data-toc-modified-id=\"Addition-6.1\"><span class=\"toc-item-num\">6.1&nbsp;&nbsp;</span>Addition</a></span></li><li><span><a href=\"#multiplication\" data-toc-modified-id=\"multiplication-6.2\"><span class=\"toc-item-num\">6.2&nbsp;&nbsp;</span>multiplication</a></span></li></ul></li><li><span><a href=\"#Question7\" data-toc-modified-id=\"Question7-7\"><span class=\"toc-item-num\">7&nbsp;&nbsp;</span>Question7</a></span><ul class=\"toc-item\"><li><span><a href=\"#Addition\" data-toc-modified-id=\"Addition-7.1\"><span class=\"toc-item-num\">7.1&nbsp;&nbsp;</span>Addition</a></span></li><li><span><a href=\"#Division\" data-toc-modified-id=\"Division-7.2\"><span class=\"toc-item-num\">7.2&nbsp;&nbsp;</span>Division</a></span><ul class=\"toc-item\"><li><span><a href=\"#Definition-of-negetive-and-posetive-integers\" data-toc-modified-id=\"Definition-of-negetive-and-posetive-integers-7.2.1\"><span class=\"toc-item-num\">7.2.1&nbsp;&nbsp;</span>Definition of negetive and posetive integers</a></span></li></ul></li></ul></li><li><span><a href=\"#Question8\" data-toc-modified-id=\"Question8-8\"><span class=\"toc-item-num\">8&nbsp;&nbsp;</span>Question8</a></span></li><li><span><a href=\"#Question9\" data-toc-modified-id=\"Question9-9\"><span class=\"toc-item-num\">9&nbsp;&nbsp;</span>Question9</a></span></li><li><span><a href=\"#Question10\" data-toc-modified-id=\"Question10-10\"><span class=\"toc-item-num\">10&nbsp;&nbsp;</span>Question10</a></span></li></ul></div>"
   ]
  },
  {
   "cell_type": "markdown",
   "metadata": {},
   "source": [
    "# License\n",
    "**Author:** Kasra Eskandari\n",
    "**Student ID:**955361005"
   ]
  },
  {
   "cell_type": "markdown",
   "metadata": {},
   "source": [
    "# Basic Concepts\n",
    "these are the concepts that are defined and described in *lambda.pdf*"
   ]
  },
  {
   "cell_type": "markdown",
   "metadata": {},
   "source": [
    "## identity"
   ]
  },
  {
   "cell_type": "code",
   "execution_count": 2,
   "metadata": {},
   "outputs": [],
   "source": [
    "I=lambda x:x"
   ]
  },
  {
   "cell_type": "markdown",
   "metadata": {},
   "source": [
    "## Arithmatics\n",
    "### numbers"
   ]
  },
  {
   "cell_type": "code",
   "execution_count": 3,
   "metadata": {},
   "outputs": [],
   "source": [
    "N0=lambda s: lambda z : z\n",
    "N1=lambda s: lambda z : s(z)\n",
    "N2=lambda s: lambda z : s(s(z))\n",
    "N3=lambda s: lambda z : s(s(s(z)))\n",
    "N4=lambda s: lambda z : s(s(s(s(z))))\n",
    "N5=lambda s: lambda z : s(s(s(s(s(z)))))"
   ]
  },
  {
   "cell_type": "code",
   "execution_count": 4,
   "metadata": {},
   "outputs": [
    {
     "name": "stdout",
     "output_type": "stream",
     "text": [
      "to make sure the number functions are working fine:\n",
      "\tN3=3\n"
     ]
    }
   ],
   "source": [
    "# this function will help us to convert Church encoded numbers into regular numbers\n",
    "c2n=lambda c:c(lambda x:x+1)(0)\n",
    "print(f\"to make sure the number functions are working fine:\\n\\tN3={c2n(N3)}\")"
   ]
  },
  {
   "cell_type": "markdown",
   "metadata": {},
   "source": [
    "### Successor function and Addition"
   ]
  },
  {
   "cell_type": "code",
   "execution_count": 5,
   "metadata": {},
   "outputs": [],
   "source": [
    "S=lambda w:lambda y:lambda x: y(w(y)(x))"
   ]
  },
  {
   "cell_type": "code",
   "execution_count": 6,
   "metadata": {},
   "outputs": [
    {
     "name": "stdout",
     "output_type": "stream",
     "text": [
      "successor of 2 is : 3\n",
      "2+3=5\n"
     ]
    }
   ],
   "source": [
    "print(f\"successor of 2 is : {c2n(S(N2))}\")\n",
    "print(f\"2+3={c2n(N2(S)(N3))}\")"
   ]
  },
  {
   "cell_type": "markdown",
   "metadata": {},
   "source": [
    "### Multiplication"
   ]
  },
  {
   "cell_type": "code",
   "execution_count": 7,
   "metadata": {},
   "outputs": [],
   "source": [
    "M = lambda x:lambda y:lambda z:x(y(z))"
   ]
  },
  {
   "cell_type": "code",
   "execution_count": 8,
   "metadata": {},
   "outputs": [
    {
     "name": "stdout",
     "output_type": "stream",
     "text": [
      "2*3=6\n",
      "4*5=20\n"
     ]
    }
   ],
   "source": [
    "N6=M(N2)(N3)\n",
    "N20=M(N4)(N5)\n",
    "print(f\"2*3={c2n(N6)}\")\n",
    "print(f\"4*5={c2n(N20)}\")"
   ]
  },
  {
   "cell_type": "markdown",
   "metadata": {},
   "source": [
    "## Logics\n",
    "### True and False"
   ]
  },
  {
   "cell_type": "code",
   "execution_count": 9,
   "metadata": {},
   "outputs": [],
   "source": [
    "T=lambda x:lambda y:x\n",
    "F=lambda x:lambda y:y"
   ]
  },
  {
   "cell_type": "code",
   "execution_count": 10,
   "metadata": {},
   "outputs": [
    {
     "name": "stdout",
     "output_type": "stream",
     "text": [
      "True\n",
      "False\n"
     ]
    }
   ],
   "source": [
    "# this function will help us to convert Church encoded True and False into regular values\n",
    "c2l=lambda c:c(True)(False)\n",
    "print(c2l(T))\n",
    "print(c2l(F))"
   ]
  },
  {
   "cell_type": "markdown",
   "metadata": {},
   "source": [
    "### Logical Operations"
   ]
  },
  {
   "cell_type": "code",
   "execution_count": 11,
   "metadata": {},
   "outputs": [],
   "source": [
    "AND=lambda x:lambda y: x(y)(F)\n",
    "OR =lambda x:lambda y: x(T)(y)\n",
    "NOT=lambda x: x(F)(T)\n"
   ]
  },
  {
   "cell_type": "code",
   "execution_count": 12,
   "metadata": {},
   "outputs": [
    {
     "name": "stdout",
     "output_type": "stream",
     "text": [
      "T∧F=False\n",
      " ¬T=False\n",
      "False\n",
      "False\n",
      "False\n",
      "True\n",
      "False\n",
      "True\n",
      "True\n",
      "True\n",
      "False\n",
      "True\n"
     ]
    }
   ],
   "source": [
    "# test\n",
    "print(f\"T∧F={c2l(AND(T)(F))}\")\n",
    "print(f\" ¬T={c2l(NOT(T))}\")\n",
    "print(c2l(AND(F)(F)))\n",
    "print(c2l(AND(F)(T)))\n",
    "print(c2l(AND(T)(F)))\n",
    "print(c2l(AND(T)(T)))\n",
    "\n",
    "print(c2l(OR(F)(F)))\n",
    "print(c2l(OR(F)(T)))\n",
    "print(c2l(OR(T)(F)))\n",
    "print(c2l(OR(T)(T)))\n",
    "\n",
    "print(c2l(NOT(T)))\n",
    "print(c2l(NOT(F)))"
   ]
  },
  {
   "cell_type": "markdown",
   "metadata": {},
   "source": [
    "###  A Conditional Test\n",
    "The following finction `Z` checks if the entry number is zero or not"
   ]
  },
  {
   "cell_type": "code",
   "execution_count": 13,
   "metadata": {},
   "outputs": [],
   "source": [
    "Z = lambda x: x(F)(NOT)(F)"
   ]
  },
  {
   "cell_type": "code",
   "execution_count": 14,
   "metadata": {},
   "outputs": [
    {
     "name": "stdout",
     "output_type": "stream",
     "text": [
      "True\n",
      "False\n"
     ]
    }
   ],
   "source": [
    "print(c2l(Z(N0)))\n",
    "print(c2l(Z(N2)))"
   ]
  },
  {
   "cell_type": "markdown",
   "metadata": {},
   "source": [
    "## The predecessor function\n",
    "To define predecessor function, pair of numbers will be needed.\\\n",
    "Lets define `pair(a,b)`"
   ]
  },
  {
   "cell_type": "code",
   "execution_count": 15,
   "metadata": {},
   "outputs": [
    {
     "name": "stdout",
     "output_type": "stream",
     "text": [
      "0\n",
      "1\n"
     ]
    }
   ],
   "source": [
    "PAIR = lambda a:lambda b: lambda z: z(a)(b)\n",
    "p01=PAIR(N0)(N1)\n",
    "print(c2n(p01(T)))\n",
    "print(c2n(p01(F)))"
   ]
  },
  {
   "cell_type": "code",
   "execution_count": 16,
   "metadata": {},
   "outputs": [
    {
     "name": "stdout",
     "output_type": "stream",
     "text": [
      "(0, 1)\n"
     ]
    }
   ],
   "source": [
    "# this function will help us to convert Church encoded pairs into regular tuples\n",
    "c2p=lambda x:(c2n(x(T)),c2n(x(F)))\n",
    "print(c2p(p01))"
   ]
  },
  {
   "cell_type": "code",
   "execution_count": 17,
   "metadata": {},
   "outputs": [],
   "source": [
    "# ϕ is PHI\n",
    "PHI=lambda p: lambda z: z(S(p(T)))(p(T))\n",
    "p00=PAIR(N0)(N0)\n",
    "P=lambda n: n(PHI)(p00)(F)"
   ]
  },
  {
   "cell_type": "code",
   "execution_count": 18,
   "metadata": {},
   "outputs": [
    {
     "name": "stdout",
     "output_type": "stream",
     "text": [
      "the predecessor of 2 is 1:\t1\n",
      "predecessor of zero is zero:\t0\n",
      "20-5=15\n"
     ]
    }
   ],
   "source": [
    "print(f\"the predecessor of 2 is 1:\\t{c2n(P(N2))}\")\n",
    "print(f\"predecessor of zero is zero:\\t{c2n(P(N0))}\")\n",
    "print(f\"20-5={c2n(N5(P)(N20))}\")"
   ]
  },
  {
   "cell_type": "markdown",
   "metadata": {},
   "source": [
    "## Equality and inequalities"
   ]
  },
  {
   "cell_type": "markdown",
   "metadata": {},
   "source": [
    "### greater than or equal"
   ]
  },
  {
   "cell_type": "code",
   "execution_count": 19,
   "metadata": {},
   "outputs": [],
   "source": [
    "G = lambda x: lambda y: Z(x(P)(y))"
   ]
  },
  {
   "cell_type": "code",
   "execution_count": 20,
   "metadata": {},
   "outputs": [
    {
     "name": "stdout",
     "output_type": "stream",
     "text": [
      "True\n",
      "False\n"
     ]
    }
   ],
   "source": [
    "print(c2l(G(N5)(N3)))\n",
    "print(c2l(G(N3)(N5)))"
   ]
  },
  {
   "cell_type": "markdown",
   "metadata": {},
   "source": [
    "### Equal\n",
    "If x ≥ y and y ≥ x, then x = y."
   ]
  },
  {
   "cell_type": "code",
   "execution_count": 21,
   "metadata": {},
   "outputs": [],
   "source": [
    "E = lambda x:lambda y: AND(G(x)(y))(G(y)(x))"
   ]
  },
  {
   "cell_type": "code",
   "execution_count": 22,
   "metadata": {},
   "outputs": [
    {
     "name": "stdout",
     "output_type": "stream",
     "text": [
      "False\n",
      "True\n",
      "True\n"
     ]
    }
   ],
   "source": [
    "print(c2l(E(N1)(N2)))\n",
    "print(c2l(E(N1)(N1)))\n",
    "print(c2l(E(N2)(N2)))"
   ]
  },
  {
   "cell_type": "markdown",
   "metadata": {},
   "source": [
    "# Question1\n",
    "Rewrite these **Boolean** expressions as Lambda expressions\n",
    "- α.β + α.γ + β.γ\n",
    "- xor (or α β) (and not α γ)"
   ]
  },
  {
   "cell_type": "markdown",
   "metadata": {},
   "source": [
    "## part A"
   ]
  },
  {
   "cell_type": "code",
   "execution_count": 23,
   "metadata": {},
   "outputs": [
    {
     "name": "stdout",
     "output_type": "stream",
     "text": [
      "True\n"
     ]
    }
   ],
   "source": [
    "Q1a=lambda a:lambda b: lambda c: ((a(b)(F))(T)(a(c)(F)))(T)(b(c)(F))\n",
    "print(c2l(Q1a(T)(T)(T)))"
   ]
  },
  {
   "cell_type": "code",
   "execution_count": 24,
   "metadata": {},
   "outputs": [
    {
     "name": "stdout",
     "output_type": "stream",
     "text": [
      "False False False  -- was correct\n",
      "False False True  -- was correct\n",
      "False True False  -- was correct\n",
      "False True True  -- was correct\n",
      "True False False  -- was correct\n",
      "True False True  -- was correct\n",
      "True True False  -- was correct\n",
      "True True True  -- was correct\n"
     ]
    }
   ],
   "source": [
    "# lets test it\n",
    "Q1a_= lambda a,b,c: (a and b) or (a and c) or (b and c)\n",
    "testCases=[list(map(lambda x:{'0':F,'1':T}[x],tuple(f\"{i:03b}\"))) for i in range(8)]\n",
    "for a,b,c in testCases:\n",
    "    assert Q1a_(c2l(a),c2l(b),c2l(c)) == c2l(Q1a(a)(b)(c)) , (c2l(a),c2l(b),c2l(c))\n",
    "    print(c2l(a),c2l(b),c2l(c),\" -- was correct\")"
   ]
  },
  {
   "cell_type": "markdown",
   "metadata": {},
   "source": [
    "## part B"
   ]
  },
  {
   "cell_type": "code",
   "execution_count": 25,
   "metadata": {},
   "outputs": [
    {
     "name": "stdout",
     "output_type": "stream",
     "text": [
      "False\n",
      "True\n",
      "True\n",
      "False\n"
     ]
    }
   ],
   "source": [
    "XOR = lambda a:lambda b: a(NOT(b))(b)\n",
    "print(c2l(XOR(F)(F)))\n",
    "print(c2l(XOR(F)(T)))\n",
    "print(c2l(XOR(T)(F)))\n",
    "print(c2l(XOR(T)(T)))"
   ]
  },
  {
   "cell_type": "code",
   "execution_count": 26,
   "metadata": {},
   "outputs": [],
   "source": [
    "Q1b=lambda a:lambda b:lambda c: XOR(OR(a)(b))(AND(NOT(a))(c))"
   ]
  },
  {
   "cell_type": "code",
   "execution_count": 27,
   "metadata": {},
   "outputs": [
    {
     "name": "stdout",
     "output_type": "stream",
     "text": [
      "False False False  -- was correct\n",
      "False False True  -- was correct\n",
      "False True False  -- was correct\n",
      "False True True  -- was correct\n",
      "True False False  -- was correct\n",
      "True False True  -- was correct\n",
      "True True False  -- was correct\n",
      "True True True  -- was correct\n"
     ]
    }
   ],
   "source": [
    "Q1b_=lambda a,b,c: (a or b) ^ (not a and c)\n",
    "for a,b,c in testCases:\n",
    "    assert Q1b_(c2l(a),c2l(b),c2l(c)) == c2l(Q1b(a)(b)(c)) , (c2l(a),c2l(b),c2l(c))\n",
    "    print(c2l(a),c2l(b),c2l(c),\" -- was correct\")"
   ]
  },
  {
   "cell_type": "markdown",
   "metadata": {},
   "source": [
    "# Question2\n",
    "Define > and < for two \\[Church encoded\\] numerical arguments"
   ]
  },
  {
   "cell_type": "markdown",
   "metadata": {},
   "source": [
    "## part A\n",
    "according to `a>b 𑁔 not(b⩾a)` the definition for `>` is:"
   ]
  },
  {
   "cell_type": "code",
   "execution_count": 28,
   "metadata": {},
   "outputs": [],
   "source": [
    "Bigger = lambda x: lambda y: NOT(G(y)(x))"
   ]
  },
  {
   "cell_type": "code",
   "execution_count": 29,
   "metadata": {},
   "outputs": [
    {
     "name": "stdout",
     "output_type": "stream",
     "text": [
      "2>2 is False\n",
      "5>1 is True\n",
      "1>5 is False\n"
     ]
    }
   ],
   "source": [
    "print(f\"2>2 is {c2l(Bigger(N2)(N2))}\")\n",
    "print(f\"5>1 is {c2l(Bigger(N5)(N1))}\")\n",
    "print(f\"1>5 is {c2l(Bigger(N1)(N5))}\")\n"
   ]
  },
  {
   "cell_type": "markdown",
   "metadata": {},
   "source": [
    "## part B\n",
    "In the same way, Initialy the `≤`(less than or equal) should be defined:"
   ]
  },
  {
   "cell_type": "code",
   "execution_count": 30,
   "metadata": {},
   "outputs": [],
   "source": [
    "L = lambda x:lambda y: Z(y(P)(x))"
   ]
  },
  {
   "cell_type": "markdown",
   "metadata": {},
   "source": [
    "according to `a<b 𑁔 not(b⩽a)`,the definition for `<` is:"
   ]
  },
  {
   "cell_type": "code",
   "execution_count": 31,
   "metadata": {},
   "outputs": [],
   "source": [
    "Smaller = lambda x:lambda y: NOT(L(y)(x))"
   ]
  },
  {
   "cell_type": "code",
   "execution_count": 32,
   "metadata": {},
   "outputs": [
    {
     "name": "stdout",
     "output_type": "stream",
     "text": [
      "2<2 is False\n",
      "5<1 is False\n",
      "1<5 is True\n"
     ]
    }
   ],
   "source": [
    "print(f\"2<2 is {c2l(Smaller(N2)(N2))}\")\n",
    "print(f\"5<1 is {c2l(Smaller(N5)(N1))}\")\n",
    "print(f\"1<5 is {c2l(Smaller(N1)(N5))}\")"
   ]
  },
  {
   "cell_type": "markdown",
   "metadata": {},
   "source": [
    "# Question3\n",
    "Define positive and negative **integers** using pairs of **natural** numbers\n",
    "- Define addition and subtraction"
   ]
  },
  {
   "cell_type": "markdown",
   "metadata": {},
   "source": [
    "## Definition of negetive and posetive integers\n",
    "In order to define signed numbers, lets consider each number as pair of numbers, which one them is zero always.\n",
    "\n",
    "- A natural number is converted to a signed number by `CONV` function\n",
    "- Negation is performed by swapping the values using `NEG` function"
   ]
  },
  {
   "cell_type": "code",
   "execution_count": 33,
   "metadata": {},
   "outputs": [],
   "source": [
    "CONV=lambda x:PAIR(x)(N0)\n",
    "NEG =lambda x:PAIR(x(F))(x(T))"
   ]
  },
  {
   "cell_type": "code",
   "execution_count": 34,
   "metadata": {},
   "outputs": [
    {
     "name": "stdout",
     "output_type": "stream",
     "text": [
      "(3, 0)\n",
      "(0, 3)\n"
     ]
    }
   ],
   "source": [
    "# for instance\n",
    "plus3 =CONV(N3)\n",
    "minus3=NEG(plus3)\n",
    "print(c2p(plus3))\n",
    "print(c2p(minus3))"
   ]
  },
  {
   "cell_type": "markdown",
   "metadata": {},
   "source": [
    "all signed numbers are natural if and only if one of the pair is zero.The `OneZero` function achieves this condition. to understand how this function works here is the psuedocode:\n",
    "```python\n",
    "def OneZero(x:pair):\n",
    "  if (not Z(xT)) and (not Z(xF)):\n",
    "    return OneZero(pair(P(xT))(P(xF)))\n",
    "  else:\n",
    "    return x\n",
    "```\n",
    "it is as same as:\n",
    "```python\n",
    "def OneZero(x:pair):\n",
    "  if not (Z(xT) or Z(xF)): # ¬∨(xT)(xF)\n",
    "    return OneZero(pair(P(xT))(P(xF)))\n",
    "  else:\n",
    "    return x\n",
    "```\n",
    "`IF` condition in λ-calculus can be defined as:\n",
    "> it means `if x then a else b`"
   ]
  },
  {
   "cell_type": "code",
   "execution_count": 35,
   "metadata": {},
   "outputs": [],
   "source": [
    "IF =lambda x:lambda a:lambda b: (x(a)(b))()\n",
    "OneZero=lambda x: IF( OR (Z(x(T))) (Z(x(F))) ) (lambda :x)  (lambda :OneZero(PAIR(P(x(T)))(P(x(F)))))"
   ]
  },
  {
   "cell_type": "code",
   "execution_count": 36,
   "metadata": {},
   "outputs": [
    {
     "name": "stdout",
     "output_type": "stream",
     "text": [
      "(2, 0)\n",
      "(0, 2)\n"
     ]
    }
   ],
   "source": [
    "p53=PAIR(N5)(N3)\n",
    "print(c2p(OneZero(p53)))\n",
    "p35=PAIR(N3)(N5)\n",
    "print(c2p(OneZero(p35)))"
   ]
  },
  {
   "cell_type": "markdown",
   "metadata": {},
   "source": [
    "## Addition and subtraction"
   ]
  },
  {
   "cell_type": "code",
   "execution_count": 37,
   "metadata": {},
   "outputs": [],
   "source": [
    "ADD = lambda x:lambda y:OneZero(PAIR(x(T)(S)(y(T)))(x(F)(S)(y(F))))\n",
    "SUB = lambda x:lambda y:OneZero(PAIR(x(T)(P)(y(T)))(x(F)(P)(y(F))))"
   ]
  },
  {
   "cell_type": "code",
   "execution_count": 38,
   "metadata": {},
   "outputs": [
    {
     "name": "stdout",
     "output_type": "stream",
     "text": [
      "(0, 2)\n"
     ]
    }
   ],
   "source": [
    "p3=CONV(N3)\n",
    "m5=NEG(CONV(N5))\n",
    "print(c2p(ADD(m5)(p3)))"
   ]
  },
  {
   "cell_type": "markdown",
   "metadata": {},
   "source": [
    "# Question4\n",
    "\n",
    "As we know:\n",
    "```\n",
    "n/m = if n⩾m then 1+(n-m)/m else 0\n",
    "```\n",
    "using λ-calculus notations divide function is:"
   ]
  },
  {
   "cell_type": "code",
   "execution_count": 39,
   "metadata": {},
   "outputs": [],
   "source": [
    "DIV=lambda n:lambda m: IF(G(n)(m))(lambda:S(DIV(m(P)(n))(m)))(lambda: N0)"
   ]
  },
  {
   "cell_type": "code",
   "execution_count": 40,
   "metadata": {},
   "outputs": [
    {
     "name": "stdout",
     "output_type": "stream",
     "text": [
      "3\n",
      "5\n"
     ]
    }
   ],
   "source": [
    "N9=N4(S)(N5)\n",
    "N10=S(N9)\n",
    "print(c2n(DIV(N9)(N3)))\n",
    "print(c2n(DIV(N10)(N2)))"
   ]
  },
  {
   "cell_type": "markdown",
   "metadata": {},
   "source": [
    "# Question5\n",
    "\n",
    "\n",
    "recursive form of the **factorial function** is:\n",
    "```\n",
    "def fact(n):\n",
    "  if n==0:\n",
    "    return 1\n",
    "  else:\n",
    "    return n*fact(n-1)\n",
    "```\n",
    "using the λ-calculus notations the factorial function is:"
   ]
  },
  {
   "cell_type": "code",
   "execution_count": 41,
   "metadata": {},
   "outputs": [],
   "source": [
    "FACT = lambda n:IF(Z(n))(lambda: N1)(lambda:M(n)(FACT(P(n))))"
   ]
  },
  {
   "cell_type": "code",
   "execution_count": 42,
   "metadata": {},
   "outputs": [
    {
     "name": "stdout",
     "output_type": "stream",
     "text": [
      "24\n"
     ]
    }
   ],
   "source": [
    "print(c2n(FACT(N4)))"
   ]
  },
  {
   "cell_type": "markdown",
   "metadata": {},
   "source": [
    "# Question6\n",
    "Define rational numbers as pairs of integers\n",
    "- Define addition, multiplication"
   ]
  },
  {
   "cell_type": "markdown",
   "metadata": {},
   "source": [
    "## Addition\n",
    "consider two pairs a,b which are known as rational numbers.\n",
    "$$\n",
    "\\frac{a0}{a1}+\\frac{b0}{b1}=\\frac{a0b1+a1b0}{a1b1}\n",
    "$$"
   ]
  },
  {
   "cell_type": "code",
   "execution_count": 1,
   "metadata": {},
   "outputs": [],
   "source": [
    "RAT_ADD = lambda a:lambda b:PAIR((M(a(T))(b(F)))(S)(M(a(F))(b(T))))(M(a(F))(b(F)))"
   ]
  },
  {
   "cell_type": "code",
   "execution_count": 43,
   "metadata": {},
   "outputs": [
    {
     "name": "stdout",
     "output_type": "stream",
     "text": [
      "(48, 12)\n"
     ]
    }
   ],
   "source": [
    "# lets test it\n",
    "N8=M(N4)(N2)\n",
    "RAT6_3=PAIR(N6)(N3)\n",
    "RAT8_4=PAIR(N8)(N4)\n",
    "print(c2p(RAT_ADD(RAT6_3)(RAT8_4)))"
   ]
  },
  {
   "cell_type": "markdown",
   "metadata": {},
   "source": [
    "## multiplication"
   ]
  },
  {
   "cell_type": "code",
   "execution_count": 44,
   "metadata": {},
   "outputs": [],
   "source": [
    "RAT_MUL = lambda a:lambda b:PAIR(M(a(T))(b(T)))(M(a(F))(b(F)))"
   ]
  },
  {
   "cell_type": "code",
   "execution_count": 45,
   "metadata": {},
   "outputs": [
    {
     "name": "stdout",
     "output_type": "stream",
     "text": [
      "(48, 12)\n"
     ]
    }
   ],
   "source": [
    "# lets test it\n",
    "N8=M(N4)(N2)\n",
    "RAT6_3=PAIR(N6)(N3)\n",
    "RAT8_4=PAIR(N8)(N4)\n",
    "print(c2p(RAT_MUL(RAT6_3)(RAT8_4)))"
   ]
  },
  {
   "cell_type": "markdown",
   "metadata": {},
   "source": [
    "# Question7\n",
    "Define complex numbers provided some encoding for real numbers exists\n",
    "- Define addition and division"
   ]
  },
  {
   "cell_type": "markdown",
   "metadata": {},
   "source": [
    "## Addition\n",
    "complex numbers can defined as `PAIR` of numbers(again)"
   ]
  },
  {
   "cell_type": "code",
   "execution_count": 46,
   "metadata": {},
   "outputs": [],
   "source": [
    "CMP_ADD=lambda a:lambda b: PAIR(a(T)(S)(b(T)))(a(F)(S)(b(F)))"
   ]
  },
  {
   "cell_type": "markdown",
   "metadata": {},
   "source": [
    "## Division\n",
    "as we know devision if two numbers is like this\n",
    "<br>\n",
    "<br>\n",
    "\n",
    "$$\n",
    "\\frac{a}{b} = \\frac{a0+ia1}{b0+ib1} = \\frac{a0+ia1}{b0+ib1} * \\frac{b0-ib1}{b0-ib1}\n",
    "= \\frac{(a0+ia1)(b0-ib1)}{b0^2+b1^2}\n",
    "$$\n",
    "<br>\n",
    "\n",
    "it means multiplcation of two complex numbers must be defined first\n",
    "to multiply two complex numbers lets say:\n",
    "$$\n",
    "    a*b= (a0+ia1)(b0+ib1) = (a0b0-a1b1)+i(a0b1+a1b0)\n",
    "$$\n",
    "\n",
    "also we should able to find the conjugation of a complex number\n",
    "$$\n",
    "    conj(a0+ia1) = a0-ia1 = a0 + i(-a1)\n",
    "$$\n",
    "\n",
    "which means signed numbers are needed :)\n"
   ]
  },
  {
   "cell_type": "markdown",
   "metadata": {},
   "source": [
    "### Definition of negetive and posetive integers\n",
    "In order to define signed numbers, lets consider each number as pair of numbers, which one them is zero always.\n",
    "\n",
    "- A natural number is converted to a signed number by `CONV` function\n",
    "- Negation is performed by swapping the values using `NEG` function"
   ]
  },
  {
   "cell_type": "code",
   "execution_count": 47,
   "metadata": {},
   "outputs": [],
   "source": [
    "CONV=lambda x:PAIR(x)(N0)\n",
    "NEG =lambda x:PAIR(x(F))(x(T))\n",
    "IF =lambda x:lambda a:lambda b: (x(a)(b))()\n",
    "OneZero=lambda x: IF( OR (Z(x(T))) (Z(x(F))) ) (lambda :x)  (lambda :OneZero(PAIR(P(x(T)))(P(x(F)))))\n",
    "ADD = lambda x:lambda y:OneZero(PAIR(x(T)(S)(y(T)))(x(F)(S)(y(F))))\n",
    "# SUB = lambda y:lambda x:OneZero(PAIR(x(T)(P)(y(T)))(x(F)(P)(y(F)))) # y-x\n",
    "SUB = lambda x:lambda y:ADD(x)(NEG(y))\n",
    "MUL = lambda x:lambda y:OneZero(PAIR((M(x(T))(y(T)))(S)(M(x(F))(y(F))))((M(x(T))(y(F)))(S)(M(x(F))(y(T)))))\n",
    "# this function will help us to convert Church encoded signed numbers into regular numbers\n",
    "c2sn=lambda x:(lambda a:a[0]-a[1])(c2p(x))"
   ]
  },
  {
   "cell_type": "code",
   "execution_count": 48,
   "metadata": {},
   "outputs": [
    {
     "name": "stdout",
     "output_type": "stream",
     "text": [
      "3\n",
      "-8\n",
      "-5\n",
      "11\n",
      "(3+2j)\n",
      "(5+4j)\n",
      "(3-6j)\n",
      "(-6+3j)\n",
      "(7+22j)\n"
     ]
    }
   ],
   "source": [
    "SN1=CONV(N1)\n",
    "SN3=CONV(N3)\n",
    "SN2=CONV(N2)\n",
    "SN4=CONV(N4)\n",
    "SN5=CONV(N5)\n",
    "SN6=CONV(N6)\n",
    "SNm6=NEG(CONV(N6))\n",
    "SN8=CONV(N8)\n",
    "SNm8=NEG(SN8)\n",
    "\n",
    "print(c2sn(SN3))\n",
    "print(c2sn(SNm8))\n",
    "print(c2sn(ADD(SN3)(SNm8)))\n",
    "print(c2sn(SUB(SN3)(SNm8)))\n",
    "\n",
    "_3p2i=PAIR(SN3)(SN2)\n",
    "_5p4i=PAIR(SN5)(SN4)\n",
    "_1p4i=PAIR(SN1)(SN4)\n",
    "_3pm6i=PAIR(SN3)(SNm6)\n",
    "_m6p3i=PAIR(SNm6)(SN3)\n",
    "# c2CMP function will help us to convert \n",
    "# Church encoded pair of signed numbers(complex numbers)\n",
    "# into regular numbers\n",
    "c2CMP=lambda a:complex(c2sn(a(T)),c2sn(a(F)))\n",
    "print(c2CMP(_3p2i))\n",
    "print(c2CMP(_5p4i))\n",
    "print(c2CMP(_3pm6i))\n",
    "print(c2CMP(_m6p3i))\n",
    "print(c2CMP(_3p2i)*c2CMP(_5p4i))\n",
    "#def c2CMP(CMP_NUM):\n",
    "    "
   ]
  },
  {
   "cell_type": "code",
   "execution_count": 49,
   "metadata": {},
   "outputs": [],
   "source": [
    "CMP_MUL=lambda a:lambda b: PAIR(SUB(MUL(a(T))(b(T)))(MUL(a(F))(b(F))))(ADD(MUL(a(T))(b(F)))(MUL(a(F))(b(T))))"
   ]
  },
  {
   "cell_type": "code",
   "execution_count": 50,
   "metadata": {},
   "outputs": [
    {
     "name": "stdout",
     "output_type": "stream",
     "text": [
      "(-5+14j)\n"
     ]
    }
   ],
   "source": [
    "# lets test it\n",
    "#  (3 + 2i)(1 + 4i) = -5 + 14i\n",
    "print(c2CMP(CMP_MUL(_3p2i)(_1p4i)))"
   ]
  },
  {
   "cell_type": "code",
   "execution_count": 51,
   "metadata": {},
   "outputs": [
    {
     "name": "stdout",
     "output_type": "stream",
     "text": [
      "(3-2j)\n",
      "(3+6j)\n",
      "(1-4j)\n",
      "(5-4j)\n"
     ]
    }
   ],
   "source": [
    "CONJ = lambda a: PAIR(a(T))(NEG(a(F)))\n",
    "print(c2CMP(CONJ(_3p2i)))\n",
    "print(c2CMP(CONJ(_3pm6i)))\n",
    "print(c2CMP(CONJ(_1p4i)))\n",
    "print(c2CMP(CONJ(_5p4i)))\n",
    "CMP_DIV=lambda a:lambda b:PAIR(CMP_MUL(a)(CONJ(b)))(CMP_MUL(b)(CONJ(b)))"
   ]
  },
  {
   "cell_type": "markdown",
   "metadata": {},
   "source": [
    "# Question8\n",
    "Define subtraction using Peano numbers"
   ]
  },
  {
   "cell_type": "code",
   "execution_count": 52,
   "metadata": {},
   "outputs": [],
   "source": [
    "z = 0\n",
    "s = lambda n: 1 + n\n",
    "p = lambda t,n=0: n if s(n) == t else p(t, s(n))\n",
    "m = lambda a,b: a if not b else m(p(a),p(b))"
   ]
  },
  {
   "cell_type": "code",
   "execution_count": 53,
   "metadata": {},
   "outputs": [
    {
     "name": "stdout",
     "output_type": "stream",
     "text": [
      "4\n"
     ]
    }
   ],
   "source": [
    "NP6=s(s(s(s(s(s(z))))))\n",
    "NP2=s(s(z))\n",
    "print(m(NP6,NP2))"
   ]
  },
  {
   "cell_type": "markdown",
   "metadata": {},
   "source": [
    "# Question9\n",
    "Define the successor function using only A, B and ID\n",
    "```\n",
    "A = λ x y . y\n",
    "B = λ x y z . x z (y z)\n",
    "ID = λ x . x\n",
    "```"
   ]
  },
  {
   "cell_type": "markdown",
   "metadata": {},
   "source": [
    "consider the `ID` as one\n",
    "lets define other numbers as:\n",
    "```\n",
    "1=λx.x\n",
    "2=λx.x(x)\n",
    "3=λx.x(x(x))\n",
    "4=λx.x(x(x(x)))\n",
    "```"
   ]
  },
  {
   "cell_type": "code",
   "execution_count": 55,
   "metadata": {},
   "outputs": [],
   "source": [
    "A=lambda x:lambda y: y\n",
    "B=lambda x:lambda y:lambda z:x(z)(y(z))\n",
    "ID=lambda x:x"
   ]
  },
  {
   "cell_type": "code",
   "execution_count": 56,
   "metadata": {},
   "outputs": [
    {
     "name": "stdout",
     "output_type": "stream",
     "text": [
      "1\n",
      "2\n",
      "3\n",
      "6\n"
     ]
    }
   ],
   "source": [
    "two=lambda x:x(x)\n",
    "three=lambda x:x(x(x))\n",
    "six=lambda x:x(x(x(x(x(x)))))\n",
    "class t:\n",
    "    def __init__(self,x):\n",
    "        self.x=x\n",
    "        pass\n",
    "    def sayNum(self):\n",
    "        i=0\n",
    "        tmp=self.x\n",
    "        while 1:\n",
    "            try:\n",
    "                i+=1\n",
    "                tmp=tmp.x\n",
    "            except:\n",
    "                return i\n",
    "def convert2numbers(n):\n",
    "    a=n(t)\n",
    "    try:\n",
    "        return a.sayNum()+1\n",
    "    except:\n",
    "        return 1\n",
    "print(convert2numbers(ID))\n",
    "print(convert2numbers(two))\n",
    "print(convert2numbers(three))\n",
    "print(convert2numbers(six))"
   ]
  },
  {
   "cell_type": "code",
   "execution_count": 57,
   "metadata": {},
   "outputs": [
    {
     "name": "stdout",
     "output_type": "stream",
     "text": [
      "2\n",
      "3\n",
      "4\n",
      "7\n"
     ]
    }
   ],
   "source": [
    "successor=lambda n:B(ID)(n)\n",
    "print(convert2numbers(successor(ID)))\n",
    "print(convert2numbers(successor(two)))\n",
    "print(convert2numbers(successor(three)))\n",
    "print(convert2numbers(successor(six)))"
   ]
  },
  {
   "cell_type": "markdown",
   "metadata": {},
   "source": [
    "# Question10\n",
    "Write a quine\n",
    "- a quine is an expression that eventually reduces to itself\n",
    "```\n",
    "Q≡(λz.(λxw.(xx))(λxw.(xx)))\n",
    "```"
   ]
  },
  {
   "cell_type": "markdown",
   "metadata": {},
   "source": [
    "```\n",
    "Qb≡(λz.(λxw.(xx))(λxw.(xx)))b\n",
    "  ≡(λxw.(xx))(λxw.(xx))\n",
    "  ≡(λw.((λxw.(xx))(λxw.(xx))))\n",
    "  ≡Q\n",
    "```"
   ]
  },
  {
   "cell_type": "code",
   "execution_count": null,
   "metadata": {},
   "outputs": [],
   "source": []
  }
 ],
 "metadata": {
  "kernelspec": {
   "display_name": "Python 3",
   "language": "python",
   "name": "python3"
  },
  "language_info": {
   "codemirror_mode": {
    "name": "ipython",
    "version": 3
   },
   "file_extension": ".py",
   "mimetype": "text/x-python",
   "name": "python",
   "nbconvert_exporter": "python",
   "pygments_lexer": "ipython3",
   "version": "3.6.8"
  },
  "toc": {
   "base_numbering": "-1",
   "nav_menu": {},
   "number_sections": true,
   "sideBar": true,
   "skip_h1_title": false,
   "title_cell": "Table of Contents",
   "title_sidebar": "Contents",
   "toc_cell": true,
   "toc_position": {},
   "toc_section_display": true,
   "toc_window_display": true
  }
 },
 "nbformat": 4,
 "nbformat_minor": 2
}

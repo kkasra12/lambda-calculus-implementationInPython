{
 "cells": [
  {
   "cell_type": "markdown",
   "metadata": {
    "toc": true
   },
   "source": [
    "<h1>Table of Contents<span class=\"tocSkip\"></span></h1>\n",
    "<div class=\"toc\"><ul class=\"toc-item\"><li><span><a href=\"#License\" data-toc-modified-id=\"License--1\"><span class=\"toc-item-num\">-1&nbsp;&nbsp;</span>License</a></span></li><li><span><a href=\"#Basic-Concepts\" data-toc-modified-id=\"Basic-Concepts-0\"><span class=\"toc-item-num\">0&nbsp;&nbsp;</span>Basic Concepts</a></span><ul class=\"toc-item\"><li><span><a href=\"#identity\" data-toc-modified-id=\"identity-0.1\"><span class=\"toc-item-num\">0.1&nbsp;&nbsp;</span>identity</a></span></li><li><span><a href=\"#Arithmatics\" data-toc-modified-id=\"Arithmatics-0.2\"><span class=\"toc-item-num\">0.2&nbsp;&nbsp;</span>Arithmatics</a></span><ul class=\"toc-item\"><li><span><a href=\"#numbers\" data-toc-modified-id=\"numbers-0.2.1\"><span class=\"toc-item-num\">0.2.1&nbsp;&nbsp;</span>numbers</a></span></li><li><span><a href=\"#Successor-function-and-Addition\" data-toc-modified-id=\"Successor-function-and-Addition-0.2.2\"><span class=\"toc-item-num\">0.2.2&nbsp;&nbsp;</span>Successor function and Addition</a></span></li><li><span><a href=\"#Multiplication\" data-toc-modified-id=\"Multiplication-0.2.3\"><span class=\"toc-item-num\">0.2.3&nbsp;&nbsp;</span>Multiplication</a></span></li></ul></li><li><span><a href=\"#Logics\" data-toc-modified-id=\"Logics-0.3\"><span class=\"toc-item-num\">0.3&nbsp;&nbsp;</span>Logics</a></span><ul class=\"toc-item\"><li><span><a href=\"#True-and-False\" data-toc-modified-id=\"True-and-False-0.3.1\"><span class=\"toc-item-num\">0.3.1&nbsp;&nbsp;</span>True and False</a></span></li><li><span><a href=\"#Logical-Operations\" data-toc-modified-id=\"Logical-Operations-0.3.2\"><span class=\"toc-item-num\">0.3.2&nbsp;&nbsp;</span>Logical Operations</a></span></li><li><span><a href=\"#A-Conditional-Test\" data-toc-modified-id=\"A-Conditional-Test-0.3.3\"><span class=\"toc-item-num\">0.3.3&nbsp;&nbsp;</span>A Conditional Test</a></span></li></ul></li><li><span><a href=\"#The-predecessor-function\" data-toc-modified-id=\"The-predecessor-function-0.4\"><span class=\"toc-item-num\">0.4&nbsp;&nbsp;</span>The predecessor function</a></span></li><li><span><a href=\"#Equality-and-inequalities\" data-toc-modified-id=\"Equality-and-inequalities-0.5\"><span class=\"toc-item-num\">0.5&nbsp;&nbsp;</span>Equality and inequalities</a></span><ul class=\"toc-item\"><li><span><a href=\"#greater-than-or-equal\" data-toc-modified-id=\"greater-than-or-equal-0.5.1\"><span class=\"toc-item-num\">0.5.1&nbsp;&nbsp;</span>greater than or equal</a></span></li><li><span><a href=\"#Equal\" data-toc-modified-id=\"Equal-0.5.2\"><span class=\"toc-item-num\">0.5.2&nbsp;&nbsp;</span>Equal</a></span></li></ul></li></ul></li><li><span><a href=\"#Question1\" data-toc-modified-id=\"Question1-1\"><span class=\"toc-item-num\">1&nbsp;&nbsp;</span>Question1</a></span><ul class=\"toc-item\"><li><span><a href=\"#part-A\" data-toc-modified-id=\"part-A-1.1\"><span class=\"toc-item-num\">1.1&nbsp;&nbsp;</span>part A</a></span></li><li><span><a href=\"#part-B\" data-toc-modified-id=\"part-B-1.2\"><span class=\"toc-item-num\">1.2&nbsp;&nbsp;</span>part B</a></span></li></ul></li><li><span><a href=\"#Question2\" data-toc-modified-id=\"Question2-2\"><span class=\"toc-item-num\">2&nbsp;&nbsp;</span>Question2</a></span><ul class=\"toc-item\"><li><span><a href=\"#part-A\" data-toc-modified-id=\"part-A-2.1\"><span class=\"toc-item-num\">2.1&nbsp;&nbsp;</span>part A</a></span></li><li><span><a href=\"#part-B\" data-toc-modified-id=\"part-B-2.2\"><span class=\"toc-item-num\">2.2&nbsp;&nbsp;</span>part B</a></span></li></ul></li><li><span><a href=\"#Question3\" data-toc-modified-id=\"Question3-3\"><span class=\"toc-item-num\">3&nbsp;&nbsp;</span>Question3</a></span><ul class=\"toc-item\"><li><span><a href=\"#Definition-of-negetive-and-posetive-integers\" data-toc-modified-id=\"Definition-of-negetive-and-posetive-integers-3.1\"><span class=\"toc-item-num\">3.1&nbsp;&nbsp;</span>Definition of negetive and posetive integers</a></span></li><li><span><a href=\"#Addition-and-subtraction\" data-toc-modified-id=\"Addition-and-subtraction-3.2\"><span class=\"toc-item-num\">3.2&nbsp;&nbsp;</span>Addition and subtraction</a></span></li></ul></li><li><span><a href=\"#Question4\" data-toc-modified-id=\"Question4-4\"><span class=\"toc-item-num\">4&nbsp;&nbsp;</span>Question4</a></span></li><li><span><a href=\"#Question5\" data-toc-modified-id=\"Question5-5\"><span class=\"toc-item-num\">5&nbsp;&nbsp;</span>Question5</a></span></li></ul></div>"
   ]
  },
  {
   "cell_type": "markdown",
   "metadata": {},
   "source": [
    "# License\n",
    "**Author:** Kasra Eskandari\n",
    "**Student ID:**955361005"
   ]
  },
  {
   "cell_type": "markdown",
   "metadata": {},
   "source": [
    "# Basic Concepts\n",
    "these are the concepts that are defined and described in *lambda.pdf*"
   ]
  },
  {
   "cell_type": "markdown",
   "metadata": {},
   "source": [
    "## identity"
   ]
  },
  {
   "cell_type": "code",
   "execution_count": 1,
   "metadata": {},
   "outputs": [],
   "source": [
    "I=lambda x:x"
   ]
  },
  {
   "cell_type": "markdown",
   "metadata": {},
   "source": [
    "## Arithmatics\n",
    "### numbers"
   ]
  },
  {
   "cell_type": "code",
   "execution_count": 2,
   "metadata": {},
   "outputs": [],
   "source": [
    "N0=lambda s: lambda z : z\n",
    "N1=lambda s: lambda z : s(z)\n",
    "N2=lambda s: lambda z : s(s(z))\n",
    "N3=lambda s: lambda z : s(s(s(z)))\n",
    "N4=lambda s: lambda z : s(s(s(s(z))))\n",
    "N5=lambda s: lambda z : s(s(s(s(s(z)))))"
   ]
  },
  {
   "cell_type": "code",
   "execution_count": 3,
   "metadata": {},
   "outputs": [
    {
     "name": "stdout",
     "output_type": "stream",
     "text": [
      "to make sure the number functions are working fine:\n",
      "\tN3=3\n"
     ]
    }
   ],
   "source": [
    "# this function will help us to convert Church encoded numbers into regular numbers\n",
    "c2n=lambda c:c(lambda x:x+1)(0)\n",
    "print(f\"to make sure the number functions are working fine:\\n\\tN3={c2n(N3)}\")"
   ]
  },
  {
   "cell_type": "markdown",
   "metadata": {},
   "source": [
    "### Successor function and Addition"
   ]
  },
  {
   "cell_type": "code",
   "execution_count": 4,
   "metadata": {},
   "outputs": [],
   "source": [
    "S=lambda w:lambda y:lambda x: y(w(y)(x))"
   ]
  },
  {
   "cell_type": "code",
   "execution_count": 5,
   "metadata": {},
   "outputs": [
    {
     "name": "stdout",
     "output_type": "stream",
     "text": [
      "successor of 2 is : 3\n",
      "2+3=5\n"
     ]
    }
   ],
   "source": [
    "print(f\"successor of 2 is : {c2n(S(N2))}\")\n",
    "print(f\"2+3={c2n(N2(S)(N3))}\")"
   ]
  },
  {
   "cell_type": "markdown",
   "metadata": {},
   "source": [
    "### Multiplication"
   ]
  },
  {
   "cell_type": "code",
   "execution_count": 6,
   "metadata": {},
   "outputs": [],
   "source": [
    "M = lambda x:lambda y:lambda z:x(y(z))"
   ]
  },
  {
   "cell_type": "code",
   "execution_count": 7,
   "metadata": {},
   "outputs": [
    {
     "name": "stdout",
     "output_type": "stream",
     "text": [
      "2*3=6\n",
      "4*5=20\n"
     ]
    }
   ],
   "source": [
    "N6=M(N2)(N3)\n",
    "N20=M(N4)(N5)\n",
    "print(f\"2*3={c2n(N6)}\")\n",
    "print(f\"4*5={c2n(N20)}\")"
   ]
  },
  {
   "cell_type": "markdown",
   "metadata": {},
   "source": [
    "## Logics\n",
    "### True and False"
   ]
  },
  {
   "cell_type": "code",
   "execution_count": 8,
   "metadata": {},
   "outputs": [],
   "source": [
    "T=lambda x:lambda y:x\n",
    "F=lambda x:lambda y:y"
   ]
  },
  {
   "cell_type": "code",
   "execution_count": 9,
   "metadata": {},
   "outputs": [
    {
     "name": "stdout",
     "output_type": "stream",
     "text": [
      "True\n",
      "False\n"
     ]
    }
   ],
   "source": [
    "# this function will help us to convert Church encoded True and False into regular values\n",
    "c2l=lambda c:c(True)(False)\n",
    "print(c2l(T))\n",
    "print(c2l(F))"
   ]
  },
  {
   "cell_type": "markdown",
   "metadata": {},
   "source": [
    "### Logical Operations"
   ]
  },
  {
   "cell_type": "code",
   "execution_count": 10,
   "metadata": {},
   "outputs": [],
   "source": [
    "AND=lambda x:lambda y: x(y)(F)\n",
    "OR =lambda x:lambda y: x(T)(y)\n",
    "NOT=lambda x: x(F)(T)\n"
   ]
  },
  {
   "cell_type": "code",
   "execution_count": 11,
   "metadata": {},
   "outputs": [
    {
     "name": "stdout",
     "output_type": "stream",
     "text": [
      "T∧F=False\n",
      " ¬T=False\n",
      "False\n",
      "False\n",
      "False\n",
      "True\n",
      "False\n",
      "True\n",
      "True\n",
      "True\n",
      "False\n",
      "True\n"
     ]
    }
   ],
   "source": [
    "# test\n",
    "print(f\"T∧F={c2l(AND(T)(F))}\")\n",
    "print(f\" ¬T={c2l(NOT(T))}\")\n",
    "print(c2l(AND(F)(F)))\n",
    "print(c2l(AND(F)(T)))\n",
    "print(c2l(AND(T)(F)))\n",
    "print(c2l(AND(T)(T)))\n",
    "\n",
    "print(c2l(OR(F)(F)))\n",
    "print(c2l(OR(F)(T)))\n",
    "print(c2l(OR(T)(F)))\n",
    "print(c2l(OR(T)(T)))\n",
    "\n",
    "print(c2l(NOT(T)))\n",
    "print(c2l(NOT(F)))"
   ]
  },
  {
   "cell_type": "markdown",
   "metadata": {},
   "source": [
    "###  A Conditional Test\n",
    "The following finction `Z` checks if the entry number is zero or not"
   ]
  },
  {
   "cell_type": "code",
   "execution_count": 12,
   "metadata": {},
   "outputs": [],
   "source": [
    "Z = lambda x: x(F)(NOT)(F)"
   ]
  },
  {
   "cell_type": "code",
   "execution_count": 13,
   "metadata": {},
   "outputs": [
    {
     "name": "stdout",
     "output_type": "stream",
     "text": [
      "True\n",
      "False\n"
     ]
    }
   ],
   "source": [
    "print(c2l(Z(N0)))\n",
    "print(c2l(Z(N2)))"
   ]
  },
  {
   "cell_type": "markdown",
   "metadata": {},
   "source": [
    "## The predecessor function\n",
    "To define predecessor function, pair of numbers will be needed.\\\n",
    "Lets define `pair(a,b)`"
   ]
  },
  {
   "cell_type": "code",
   "execution_count": 14,
   "metadata": {},
   "outputs": [
    {
     "name": "stdout",
     "output_type": "stream",
     "text": [
      "0\n",
      "1\n"
     ]
    }
   ],
   "source": [
    "PAIR = lambda a:lambda b: lambda z: z(a)(b)\n",
    "p01=PAIR(N0)(N1)\n",
    "print(c2n(p01(T)))\n",
    "print(c2n(p01(F)))"
   ]
  },
  {
   "cell_type": "code",
   "execution_count": 15,
   "metadata": {},
   "outputs": [
    {
     "name": "stdout",
     "output_type": "stream",
     "text": [
      "(0, 1)\n"
     ]
    }
   ],
   "source": [
    "# this function will help us to convert Church encoded pairs into regular tuples\n",
    "c2p=lambda x:(c2n(x(T)),c2n(x(F)))\n",
    "print(c2p(p01))"
   ]
  },
  {
   "cell_type": "code",
   "execution_count": 16,
   "metadata": {},
   "outputs": [],
   "source": [
    "# ϕ is PHI\n",
    "PHI=lambda p: lambda z: z(S(p(T)))(p(T))\n",
    "p00=PAIR(N0)(N0)\n",
    "P=lambda n: n(PHI)(p00)(F)"
   ]
  },
  {
   "cell_type": "code",
   "execution_count": 17,
   "metadata": {},
   "outputs": [
    {
     "name": "stdout",
     "output_type": "stream",
     "text": [
      "the predecessor of 2 is 1:\t1\n",
      "predecessor of zero is zero:\t0\n",
      "20-5=15\n"
     ]
    }
   ],
   "source": [
    "print(f\"the predecessor of 2 is 1:\\t{c2n(P(N2))}\")\n",
    "print(f\"predecessor of zero is zero:\\t{c2n(P(N0))}\")\n",
    "print(f\"20-5={c2n(N5(P)(N20))}\")"
   ]
  },
  {
   "cell_type": "markdown",
   "metadata": {},
   "source": [
    "## Equality and inequalities"
   ]
  },
  {
   "cell_type": "markdown",
   "metadata": {},
   "source": [
    "### greater than or equal"
   ]
  },
  {
   "cell_type": "code",
   "execution_count": 18,
   "metadata": {},
   "outputs": [],
   "source": [
    "G = lambda x: lambda y: Z(x(P)(y))"
   ]
  },
  {
   "cell_type": "code",
   "execution_count": 19,
   "metadata": {},
   "outputs": [
    {
     "name": "stdout",
     "output_type": "stream",
     "text": [
      "True\n",
      "False\n"
     ]
    }
   ],
   "source": [
    "print(c2l(G(N5)(N3)))\n",
    "print(c2l(G(N3)(N5)))"
   ]
  },
  {
   "cell_type": "markdown",
   "metadata": {},
   "source": [
    "### Equal\n",
    "If x ≥ y and y ≥ x, then x = y."
   ]
  },
  {
   "cell_type": "code",
   "execution_count": 20,
   "metadata": {},
   "outputs": [],
   "source": [
    "E = lambda x:lambda y: AND(G(x)(y))(G(y)(x))"
   ]
  },
  {
   "cell_type": "code",
   "execution_count": 21,
   "metadata": {},
   "outputs": [
    {
     "name": "stdout",
     "output_type": "stream",
     "text": [
      "False\n",
      "True\n",
      "True\n"
     ]
    }
   ],
   "source": [
    "print(c2l(E(N1)(N2)))\n",
    "print(c2l(E(N1)(N1)))\n",
    "print(c2l(E(N2)(N2)))"
   ]
  },
  {
   "cell_type": "markdown",
   "metadata": {},
   "source": [
    "# Question1\n",
    "Rewrite these **Boolean** expressions as Lambda expressions\n",
    "- α.β + α.γ + β.γ\n",
    "- xor (or α β) (and not α γ)"
   ]
  },
  {
   "cell_type": "markdown",
   "metadata": {},
   "source": [
    "## part A"
   ]
  },
  {
   "cell_type": "code",
   "execution_count": 22,
   "metadata": {},
   "outputs": [
    {
     "name": "stdout",
     "output_type": "stream",
     "text": [
      "True\n"
     ]
    }
   ],
   "source": [
    "Q1a=lambda a:lambda b: lambda c: ((a(b)(F))(T)(a(c)(F)))(T)(b(c)(F))\n",
    "print(c2l(Q1a(T)(T)(T)))"
   ]
  },
  {
   "cell_type": "code",
   "execution_count": 23,
   "metadata": {},
   "outputs": [
    {
     "name": "stdout",
     "output_type": "stream",
     "text": [
      "False False False  -- was correct\n",
      "False False True  -- was correct\n",
      "False True False  -- was correct\n",
      "False True True  -- was correct\n",
      "True False False  -- was correct\n",
      "True False True  -- was correct\n",
      "True True False  -- was correct\n",
      "True True True  -- was correct\n"
     ]
    }
   ],
   "source": [
    "# lets test it\n",
    "Q1a_= lambda a,b,c: (a and b) or (a and c) or (b and c)\n",
    "testCases=[list(map(lambda x:{'0':F,'1':T}[x],tuple(f\"{i:03b}\"))) for i in range(8)]\n",
    "for a,b,c in testCases:\n",
    "    assert Q1a_(c2l(a),c2l(b),c2l(c)) == c2l(Q1a(a)(b)(c)) , (c2l(a),c2l(b),c2l(c))\n",
    "    print(c2l(a),c2l(b),c2l(c),\" -- was correct\")"
   ]
  },
  {
   "cell_type": "markdown",
   "metadata": {},
   "source": [
    "## part B"
   ]
  },
  {
   "cell_type": "code",
   "execution_count": 24,
   "metadata": {},
   "outputs": [
    {
     "name": "stdout",
     "output_type": "stream",
     "text": [
      "False\n",
      "True\n",
      "True\n",
      "False\n"
     ]
    }
   ],
   "source": [
    "XOR = lambda a:lambda b: a(NOT(b))(b)\n",
    "print(c2l(XOR(F)(F)))\n",
    "print(c2l(XOR(F)(T)))\n",
    "print(c2l(XOR(T)(F)))\n",
    "print(c2l(XOR(T)(T)))"
   ]
  },
  {
   "cell_type": "code",
   "execution_count": 25,
   "metadata": {},
   "outputs": [],
   "source": [
    "Q1b=lambda a:lambda b:lambda c: XOR(OR(a)(b))(AND(NOT(a))(c))"
   ]
  },
  {
   "cell_type": "code",
   "execution_count": 26,
   "metadata": {},
   "outputs": [
    {
     "name": "stdout",
     "output_type": "stream",
     "text": [
      "False False False  -- was correct\n",
      "False False True  -- was correct\n",
      "False True False  -- was correct\n",
      "False True True  -- was correct\n",
      "True False False  -- was correct\n",
      "True False True  -- was correct\n",
      "True True False  -- was correct\n",
      "True True True  -- was correct\n"
     ]
    }
   ],
   "source": [
    "Q1b_=lambda a,b,c: (a or b) ^ (not a and c)\n",
    "for a,b,c in testCases:\n",
    "    assert Q1b_(c2l(a),c2l(b),c2l(c)) == c2l(Q1b(a)(b)(c)) , (c2l(a),c2l(b),c2l(c))\n",
    "    print(c2l(a),c2l(b),c2l(c),\" -- was correct\")"
   ]
  },
  {
   "cell_type": "markdown",
   "metadata": {},
   "source": [
    "# Question2\n",
    "Define > and < for two \\[Church encoded\\] numerical arguments"
   ]
  },
  {
   "cell_type": "markdown",
   "metadata": {},
   "source": [
    "## part A\n",
    "according to `a>b 𑁔 not(b⩾a)` the definition for `>` is:"
   ]
  },
  {
   "cell_type": "code",
   "execution_count": 27,
   "metadata": {},
   "outputs": [],
   "source": [
    "Bigger = lambda x: lambda y: NOT(G(y)(x))"
   ]
  },
  {
   "cell_type": "code",
   "execution_count": 28,
   "metadata": {},
   "outputs": [
    {
     "name": "stdout",
     "output_type": "stream",
     "text": [
      "2>2 is False\n",
      "5>1 is True\n",
      "1>5 is False\n"
     ]
    }
   ],
   "source": [
    "print(f\"2>2 is {c2l(Bigger(N2)(N2))}\")\n",
    "print(f\"5>1 is {c2l(Bigger(N5)(N1))}\")\n",
    "print(f\"1>5 is {c2l(Bigger(N1)(N5))}\")\n"
   ]
  },
  {
   "cell_type": "markdown",
   "metadata": {},
   "source": [
    "## part B\n",
    "In the same way, Initialy the `≤`(less than or equal) should be defined:"
   ]
  },
  {
   "cell_type": "code",
   "execution_count": 29,
   "metadata": {},
   "outputs": [],
   "source": [
    "L = lambda x:lambda y: Z(y(P)(x))"
   ]
  },
  {
   "cell_type": "markdown",
   "metadata": {},
   "source": [
    "according to `a<b 𑁔 not(b⩽a)`,the definition for `<` is:"
   ]
  },
  {
   "cell_type": "code",
   "execution_count": 30,
   "metadata": {},
   "outputs": [],
   "source": [
    "Smaller = lambda x:lambda y: NOT(L(y)(x))"
   ]
  },
  {
   "cell_type": "code",
   "execution_count": 31,
   "metadata": {},
   "outputs": [
    {
     "name": "stdout",
     "output_type": "stream",
     "text": [
      "2<2 is False\n",
      "5<1 is False\n",
      "1<5 is True\n"
     ]
    }
   ],
   "source": [
    "print(f\"2<2 is {c2l(Smaller(N2)(N2))}\")\n",
    "print(f\"5<1 is {c2l(Smaller(N5)(N1))}\")\n",
    "print(f\"1<5 is {c2l(Smaller(N1)(N5))}\")"
   ]
  },
  {
   "cell_type": "markdown",
   "metadata": {},
   "source": [
    "# Question3\n",
    "Define positive and negative **integers** using pairs of **natural** numbers\n",
    "- Define addition and subtraction"
   ]
  },
  {
   "cell_type": "markdown",
   "metadata": {},
   "source": [
    "## Definition of negetive and posetive integers\n",
    "In order to define signed numbers, lets consider each number as pair of numbers, which one them is zero always.\n",
    "\n",
    "- A natural number is converted to a signed number by `CONV` function\n",
    "- Negation is performed by swapping the values using `NEG` function"
   ]
  },
  {
   "cell_type": "code",
   "execution_count": 32,
   "metadata": {},
   "outputs": [],
   "source": [
    "CONV=lambda x:PAIR(x)(N0)\n",
    "NEG =lambda x:PAIR(x(F))(x(T))"
   ]
  },
  {
   "cell_type": "code",
   "execution_count": 33,
   "metadata": {},
   "outputs": [
    {
     "name": "stdout",
     "output_type": "stream",
     "text": [
      "(3, 0)\n",
      "(0, 3)\n"
     ]
    }
   ],
   "source": [
    "# for instance\n",
    "plus3 =CONV(N3)\n",
    "minus3=NEG(plus3)\n",
    "print(c2p(plus3))\n",
    "print(c2p(minus3))"
   ]
  },
  {
   "cell_type": "markdown",
   "metadata": {},
   "source": [
    "all signed numbers are natural if and only if one of the pair is zero.The `OneZero` function achieves this condition. to understand how this function works here is the psuedocode:\n",
    "```python\n",
    "def OneZero(x:pair):\n",
    "  if (not Z(xT)) and (not Z(xF)):\n",
    "    return OneZero(pair(P(xT))(P(xF)))\n",
    "  else:\n",
    "    return x\n",
    "```\n",
    "it is as same as:\n",
    "```python\n",
    "def OneZero(x:pair):\n",
    "  if not (Z(xT) or Z(xF)): # ¬∨(xT)(xF)\n",
    "    return OneZero(pair(P(xT))(P(xF)))\n",
    "  else:\n",
    "    return x\n",
    "```\n",
    "`IF` condition in λ-calculus can be defined as:\n",
    "> it means `if x then a else b`"
   ]
  },
  {
   "cell_type": "code",
   "execution_count": 34,
   "metadata": {},
   "outputs": [],
   "source": [
    "IF =lambda x:lambda a:lambda b: (x(a)(b))()\n",
    "OneZero=lambda x: IF( OR (Z(x(T))) (Z(x(F))) ) (lambda :x)  (lambda :OneZero(PAIR(P(x(T)))(P(x(F)))))"
   ]
  },
  {
   "cell_type": "code",
   "execution_count": 35,
   "metadata": {},
   "outputs": [
    {
     "name": "stdout",
     "output_type": "stream",
     "text": [
      "(2, 0)\n",
      "(0, 2)\n"
     ]
    }
   ],
   "source": [
    "p53=PAIR(N5)(N3)\n",
    "print(c2p(OneZero(p53)))\n",
    "p35=PAIR(N3)(N5)\n",
    "print(c2p(OneZero(p35)))"
   ]
  },
  {
   "cell_type": "markdown",
   "metadata": {},
   "source": [
    "## Addition and subtraction"
   ]
  },
  {
   "cell_type": "code",
   "execution_count": 36,
   "metadata": {},
   "outputs": [],
   "source": [
    "ADD = lambda x:lambda y:OneZero(PAIR(x(T)(S)(y(T)))(x(F)(S)(y(F))))\n",
    "SUB = lambda x:lambda y:OneZero(PAIR(x(T)(P)(y(T)))(x(F)(P)(y(F))))"
   ]
  },
  {
   "cell_type": "code",
   "execution_count": 37,
   "metadata": {},
   "outputs": [
    {
     "name": "stdout",
     "output_type": "stream",
     "text": [
      "(0, 2)\n"
     ]
    }
   ],
   "source": [
    "p3=CONV(N3)\n",
    "m5=NEG(CONV(N5))\n",
    "print(c2p(ADD(m5)(p3)))"
   ]
  },
  {
   "cell_type": "markdown",
   "metadata": {},
   "source": [
    "# Question4\n",
    "\n",
    "As we know:\n",
    "```\n",
    "n/m = if n⩾m then 1+(n-m)/m else 0\n",
    "```\n",
    "using λ-calculus notations divide function is:"
   ]
  },
  {
   "cell_type": "code",
   "execution_count": 38,
   "metadata": {},
   "outputs": [],
   "source": [
    "DIV=lambda n:lambda m: IF(G(n)(m))(lambda:S(DIV(m(P)(n))(m)))(lambda: N0)"
   ]
  },
  {
   "cell_type": "code",
   "execution_count": 39,
   "metadata": {},
   "outputs": [
    {
     "name": "stdout",
     "output_type": "stream",
     "text": [
      "3\n",
      "5\n"
     ]
    }
   ],
   "source": [
    "N9=N4(S)(N5)\n",
    "N10=S(N9)\n",
    "print(c2n(DIV(N9)(N3)))\n",
    "print(c2n(DIV(N10)(N2)))"
   ]
  },
  {
   "cell_type": "markdown",
   "metadata": {},
   "source": [
    "# Question5\n",
    "\n",
    "\n",
    "recursive form of the **factorial function** is:\n",
    "```\n",
    "def fact(n):\n",
    "  if n==0:\n",
    "    return 1\n",
    "  else:\n",
    "    return n*fact(n-1)\n",
    "```\n",
    "using the λ-calculus notations the factorial function is:"
   ]
  },
  {
   "cell_type": "code",
   "execution_count": 40,
   "metadata": {},
   "outputs": [],
   "source": [
    "FACT = lambda n:IF(Z(n))(lambda: N1)(lambda:M(n)(FACT(P(n))))"
   ]
  },
  {
   "cell_type": "code",
   "execution_count": 41,
   "metadata": {},
   "outputs": [
    {
     "name": "stdout",
     "output_type": "stream",
     "text": [
      "24\n"
     ]
    }
   ],
   "source": [
    "print(c2n(FACT(N4)))"
   ]
  },
  {
   "cell_type": "code",
   "execution_count": null,
   "metadata": {},
   "outputs": [],
   "source": []
  }
 ],
 "metadata": {
  "kernelspec": {
   "display_name": "Python 3",
   "language": "python",
   "name": "python3"
  },
  "language_info": {
   "codemirror_mode": {
    "name": "ipython",
    "version": 3
   },
   "file_extension": ".py",
   "mimetype": "text/x-python",
   "name": "python",
   "nbconvert_exporter": "python",
   "pygments_lexer": "ipython3",
   "version": "3.6.8"
  },
  "toc": {
   "base_numbering": "-1",
   "nav_menu": {},
   "number_sections": true,
   "sideBar": true,
   "skip_h1_title": false,
   "title_cell": "Table of Contents",
   "title_sidebar": "Contents",
   "toc_cell": true,
   "toc_position": {},
   "toc_section_display": true,
   "toc_window_display": true
  }
 },
 "nbformat": 4,
 "nbformat_minor": 2
}
